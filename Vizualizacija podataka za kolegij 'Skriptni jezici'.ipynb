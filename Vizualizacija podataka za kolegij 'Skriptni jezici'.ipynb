{
 "cells": [
  {
   "cell_type": "code",
   "execution_count": null,
   "id": "f56b2703",
   "metadata": {},
   "outputs": [
    {
     "name": "stdout",
     "output_type": "stream",
     "text": [
      "     temp                    timestamp\n",
      "0     5.3  2022-03-23T22:00:54.593000Z\n",
      "1     5.3  2022-03-23T23:00:54.593000Z\n",
      "2     5.4  2022-03-24T00:00:54.593000Z\n",
      "3     5.2  2022-03-24T01:00:54.593000Z\n",
      "4     5.3  2022-03-24T02:00:54.593000Z\n",
      "..    ...                          ...\n",
      "858   5.3  2022-04-28T17:00:13.764000Z\n",
      "859   5.3  2022-04-28T18:00:13.764000Z\n",
      "860   5.4  2022-04-28T19:00:13.761000Z\n",
      "861   5.4  2022-04-28T20:00:13.764000Z\n",
      "862   5.4  2022-04-28T21:00:13.761000Z\n",
      "\n",
      "[863 rows x 2 columns]\n"
     ]
    }
   ],
   "source": [
    "import matplotlib.pyplot as plt\n",
    "%matplotlib inline\n",
    "import pandas as pd\n",
    "import numpy as np\n",
    "import requests\n",
    "import json \n",
    "r = requests.get(\"https://apikomore.mci.ba/fakultet/graph_data/?start=2022-03-24&end=2022-04-28&group_id=7&apikey=skriptni-jezici-2022\") \n",
    "res = json.loads(r.text)\n",
    "df = pd.DataFrame(res['temperatures'])\n",
    "print(df)\n",
    "df[\"temp\"] = df['temp'].astype(int)\n",
    "df[\"timestamp\"] = pd.to_datetime(df[\"timestamp\"])\n",
    "plt.style.use('Solarize_Light2')\n",
    "df.plot(x='timestamp', y='temp', kind='line',color='#FF33F6')\n",
    "plt.show()"
   ]
  },
  {
   "cell_type": "code",
   "execution_count": null,
   "id": "47b3d302",
   "metadata": {},
   "outputs": [],
   "source": []
  }
 ],
 "metadata": {
  "kernelspec": {
   "display_name": "Python 3 (ipykernel)",
   "language": "python",
   "name": "python3"
  },
  "language_info": {
   "codemirror_mode": {
    "name": "ipython",
    "version": 3
   },
   "file_extension": ".py",
   "mimetype": "text/x-python",
   "name": "python",
   "nbconvert_exporter": "python",
   "pygments_lexer": "ipython3",
   "version": "3.8.10"
  }
 },
 "nbformat": 4,
 "nbformat_minor": 5
}
