{
 "cells": [
  {
   "cell_type": "code",
   "execution_count": 3,
   "id": "f56b2703",
   "metadata": {},
   "outputs": [],
   "source": [
    "import matplotlib.pyplot as plt\n",
    "%matplotlib inline\n",
    "import pandas as pd\n",
    "import numpy as np\n",
    "import requests\n",
    "import json "
   ]
  },
  {
   "cell_type": "code",
   "execution_count": 4,
   "id": "47b3d302",
   "metadata": {},
   "outputs": [],
   "source": [
    "r = requests.get(\"https://apikomore.mci.ba/fakultet/graph_data/?start=2022-03-24&end=2022-04-28&group_id=7&apikey=skriptni-jezici-2022\") \n",
    "res = json.loads(r.text)"
   ]
  },
  {
   "cell_type": "code",
   "execution_count": 5,
   "id": "d9fc5c21",
   "metadata": {},
   "outputs": [
    {
     "data": {
      "text/html": [
       "<div>\n",
       "<style scoped>\n",
       "    .dataframe tbody tr th:only-of-type {\n",
       "        vertical-align: middle;\n",
       "    }\n",
       "\n",
       "    .dataframe tbody tr th {\n",
       "        vertical-align: top;\n",
       "    }\n",
       "\n",
       "    .dataframe thead th {\n",
       "        text-align: right;\n",
       "    }\n",
       "</style>\n",
       "<table border=\"1\" class=\"dataframe\">\n",
       "  <thead>\n",
       "    <tr style=\"text-align: right;\">\n",
       "      <th></th>\n",
       "      <th>temp</th>\n",
       "      <th>timestamp</th>\n",
       "    </tr>\n",
       "  </thead>\n",
       "  <tbody>\n",
       "    <tr>\n",
       "      <th>0</th>\n",
       "      <td>5.3</td>\n",
       "      <td>2022-03-23T22:00:54.593000Z</td>\n",
       "    </tr>\n",
       "    <tr>\n",
       "      <th>1</th>\n",
       "      <td>5.3</td>\n",
       "      <td>2022-03-23T23:00:54.593000Z</td>\n",
       "    </tr>\n",
       "    <tr>\n",
       "      <th>2</th>\n",
       "      <td>5.4</td>\n",
       "      <td>2022-03-24T00:00:54.593000Z</td>\n",
       "    </tr>\n",
       "    <tr>\n",
       "      <th>3</th>\n",
       "      <td>5.2</td>\n",
       "      <td>2022-03-24T01:00:54.593000Z</td>\n",
       "    </tr>\n",
       "    <tr>\n",
       "      <th>4</th>\n",
       "      <td>5.3</td>\n",
       "      <td>2022-03-24T02:00:54.593000Z</td>\n",
       "    </tr>\n",
       "    <tr>\n",
       "      <th>...</th>\n",
       "      <td>...</td>\n",
       "      <td>...</td>\n",
       "    </tr>\n",
       "    <tr>\n",
       "      <th>858</th>\n",
       "      <td>5.3</td>\n",
       "      <td>2022-04-28T17:00:13.764000Z</td>\n",
       "    </tr>\n",
       "    <tr>\n",
       "      <th>859</th>\n",
       "      <td>5.3</td>\n",
       "      <td>2022-04-28T18:00:13.764000Z</td>\n",
       "    </tr>\n",
       "    <tr>\n",
       "      <th>860</th>\n",
       "      <td>5.4</td>\n",
       "      <td>2022-04-28T19:00:13.761000Z</td>\n",
       "    </tr>\n",
       "    <tr>\n",
       "      <th>861</th>\n",
       "      <td>5.4</td>\n",
       "      <td>2022-04-28T20:00:13.764000Z</td>\n",
       "    </tr>\n",
       "    <tr>\n",
       "      <th>862</th>\n",
       "      <td>5.4</td>\n",
       "      <td>2022-04-28T21:00:13.761000Z</td>\n",
       "    </tr>\n",
       "  </tbody>\n",
       "</table>\n",
       "<p>863 rows × 2 columns</p>\n",
       "</div>"
      ],
      "text/plain": [
       "     temp                    timestamp\n",
       "0     5.3  2022-03-23T22:00:54.593000Z\n",
       "1     5.3  2022-03-23T23:00:54.593000Z\n",
       "2     5.4  2022-03-24T00:00:54.593000Z\n",
       "3     5.2  2022-03-24T01:00:54.593000Z\n",
       "4     5.3  2022-03-24T02:00:54.593000Z\n",
       "..    ...                          ...\n",
       "858   5.3  2022-04-28T17:00:13.764000Z\n",
       "859   5.3  2022-04-28T18:00:13.764000Z\n",
       "860   5.4  2022-04-28T19:00:13.761000Z\n",
       "861   5.4  2022-04-28T20:00:13.764000Z\n",
       "862   5.4  2022-04-28T21:00:13.761000Z\n",
       "\n",
       "[863 rows x 2 columns]"
      ]
     },
     "execution_count": 5,
     "metadata": {},
     "output_type": "execute_result"
    }
   ],
   "source": [
    "df = pd.DataFrame(res['temperatures'])\n",
    "df"
   ]
  },
  {
   "cell_type": "code",
   "execution_count": 6,
   "id": "bcbf5fe7",
   "metadata": {},
   "outputs": [],
   "source": [
    "ax, ay  = [],[]\n",
    "df[\"temp\"] = df['temp'].astype(int)\n",
    "df[\"timestamp\"] = pd.to_datetime(df[\"timestamp\"])\n",
    "ay = df['temp']\n",
    "ax = df['timestamp']\n"
   ]
  },
  {
   "cell_type": "code",
   "execution_count": null,
   "id": "ae6409bc",
   "metadata": {},
   "outputs": [],
   "source": [
    "plt.style.use('Solarize_Light2')\n",
    "df.plot(x='Vrijeme', y='Temperatura', kind='line',color='#FF33F6')\n",
    "plt.plot(ax , ay, color='#FF33E9',linewidth = '1')\n",
    "plt.axhline(2.5, color='orange',ls=':')\n",
    "plt.xlabel('Vrijeme')\n",
    "plt.ylabel('Temperatura')\n",
    "plt.title('Temperatura komore')\n",
    "plt.show()"
   ]
  }
 ],
 "metadata": {
  "kernelspec": {
   "display_name": "Python 3 (ipykernel)",
   "language": "python",
   "name": "python3"
  },
  "language_info": {
   "codemirror_mode": {
    "name": "ipython",
    "version": 3
   },
   "file_extension": ".py",
   "mimetype": "text/x-python",
   "name": "python",
   "nbconvert_exporter": "python",
   "pygments_lexer": "ipython3",
   "version": "3.8.10"
  }
 },
 "nbformat": 4,
 "nbformat_minor": 5
}
